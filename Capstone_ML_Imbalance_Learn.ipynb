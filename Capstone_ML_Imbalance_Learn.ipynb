{
 "cells": [
  {
   "cell_type": "code",
   "execution_count": 1,
   "id": "circular-interpretation",
   "metadata": {},
   "outputs": [],
   "source": [
    "import pandas as pd\n",
    "import numpy as np\n",
    "import matplotlib.pyplot as plt\n",
    "%matplotlib inline\n",
    "import seaborn as sns\n",
    "from sklearn.model_selection import train_test_split\n",
    "from sklearn.linear_model import LogisticRegression\n",
    "from sklearn.metrics import accuracy_score\n",
    "from sklearn.pipeline import Pipeline\n",
    "from sklearn.model_selection import cross_val_score\n",
    "from sklearn.model_selection import GridSearchCV\n",
    "from sklearn.decomposition import PCA\n",
    "from sklearn.preprocessing import MinMaxScaler\n",
    "from sklearn.preprocessing import StandardScaler\n",
    "from sklearn.tree import DecisionTreeClassifier\n",
    "from sklearn.svm import SVC\n",
    "import warnings\n",
    "warnings.filterwarnings('ignore')"
   ]
  },
  {
   "cell_type": "markdown",
   "id": "existing-wrong",
   "metadata": {},
   "source": [
    "## Capstone Project\n",
    "#### Halak Desai, April 2021\n",
    "\n",
    "## Notebook 3\n",
    "\n",
    "### This notebook is a branch of Notebook 2 `Capstone_ML-Final`.  \n",
    "### This notebook has different methods used for Undersampling and Oversampling my data to address class imbalance"
   ]
  },
  {
   "cell_type": "code",
   "execution_count": 2,
   "id": "precious-filing",
   "metadata": {},
   "outputs": [],
   "source": [
    "X1 = pd.read_csv('Created_Data\\Features.csv') # read csv downloaded from Notebook 2 \n",
    "y1 = pd.read_csv('Created_Data\\Target.csv') # read csv downloaded from Notebook 2"
   ]
  },
  {
   "cell_type": "code",
   "execution_count": 3,
   "id": "independent-click",
   "metadata": {},
   "outputs": [
    {
     "data": {
      "text/plain": [
       "(29093, 6)"
      ]
     },
     "execution_count": 3,
     "metadata": {},
     "output_type": "execute_result"
    }
   ],
   "source": [
    "X1.shape"
   ]
  },
  {
   "cell_type": "code",
   "execution_count": 4,
   "id": "greatest-borough",
   "metadata": {},
   "outputs": [
    {
     "data": {
      "text/plain": [
       "array([[0],\n",
       "       [0],\n",
       "       [1],\n",
       "       ...,\n",
       "       [1],\n",
       "       [0],\n",
       "       [0]], dtype=int64)"
      ]
     },
     "execution_count": 4,
     "metadata": {},
     "output_type": "execute_result"
    }
   ],
   "source": [
    "y1.to_numpy() #convert to numpy to ignore warning during running model."
   ]
  },
  {
   "cell_type": "code",
   "execution_count": 61,
   "id": "balanced-hungarian",
   "metadata": {},
   "outputs": [
    {
     "data": {
      "text/plain": [
       "(29093, 1)"
      ]
     },
     "execution_count": 61,
     "metadata": {},
     "output_type": "execute_result"
    }
   ],
   "source": [
    "y1.shape"
   ]
  },
  {
   "cell_type": "code",
   "execution_count": 62,
   "id": "black-minister",
   "metadata": {},
   "outputs": [],
   "source": [
    "# Splitting the data to reduce the data size (stratified on target value)\n",
    "X_remainder, X_test, y_remainder, y_test = train_test_split(X1, y1, test_size=0.5, stratify = y1, random_state = 1)"
   ]
  },
  {
   "cell_type": "code",
   "execution_count": 63,
   "id": "confidential-discipline",
   "metadata": {},
   "outputs": [],
   "source": [
    "# Splitting the data again to reduce the data size - to reduce computation time (stratified on target value)\n",
    "X_train, X_validation, y_train, y_validation = train_test_split(X_remainder, y_remainder, test_size=0.3, stratify = y_remainder, random_state = 1)"
   ]
  },
  {
   "cell_type": "code",
   "execution_count": 64,
   "id": "falling-storm",
   "metadata": {},
   "outputs": [
    {
     "data": {
      "text/plain": [
       "weighted_average_vote\n",
       "0                        8680\n",
       "1                        1502\n",
       "dtype: int64"
      ]
     },
     "execution_count": 64,
     "metadata": {},
     "output_type": "execute_result"
    }
   ],
   "source": [
    "y_train.value_counts() # Check that the sample set has original class imbalance"
   ]
  },
  {
   "cell_type": "markdown",
   "id": "educated-reform",
   "metadata": {},
   "source": [
    "## Under Sampling"
   ]
  },
  {
   "cell_type": "markdown",
   "id": "hundred-threshold",
   "metadata": {},
   "source": [
    "From imbalanced learn library I am going to first use NearMiss-2 selects the positive samples for which the average distance to the N farthest samples of the negative class is the smallest.  \n",
    "I chose this method to try to find sample farthest from the minority class to keep them apart as much as possible.\n",
    "\n",
    "https://imbalanced-learn.org/stable/references/generated/imblearn.under_sampling.NearMiss.html\n",
    "\n",
    "I am going to use the same set up of pipeline as used in Notebook 2 except I am going to use 3 K-Folds instead of 5.\n",
    "\n",
    "Though accuracy of model is very important , my primary focus is on improving my confusion matrix."
   ]
  },
  {
   "cell_type": "code",
   "execution_count": 44,
   "id": "recreational-persian",
   "metadata": {},
   "outputs": [],
   "source": [
    "from imblearn.under_sampling import NearMiss\n",
    "nm1 = NearMiss(version=2)\n",
    "X_resampled_nm1, y_resampled_nm1 = nm1.fit_resample(X_train, y_train)"
   ]
  },
  {
   "cell_type": "code",
   "execution_count": 45,
   "id": "progressive-daily",
   "metadata": {},
   "outputs": [
    {
     "data": {
      "text/plain": [
       "weighted_average_vote\n",
       "0                        1502\n",
       "1                        1502\n",
       "dtype: int64"
      ]
     },
     "execution_count": 45,
     "metadata": {},
     "output_type": "execute_result"
    }
   ],
   "source": [
    "y_resampled_nm1.value_counts()"
   ]
  },
  {
   "cell_type": "code",
   "execution_count": 65,
   "id": "cutting-injection",
   "metadata": {},
   "outputs": [
    {
     "name": "stdout",
     "output_type": "stream",
     "text": [
      "Wall time: 39 s\n"
     ]
    }
   ],
   "source": [
    "%%time\n",
    "\n",
    "estimators3 = [('normalize', MinMaxScaler()),\n",
    "               ('model', LogisticRegression(max_iter = 3000))]\n",
    "             \n",
    "              \n",
    "\n",
    "pipe3 = Pipeline(estimators3)\n",
    "\n",
    "param_grid3 = [ {'normalize':[MinMaxScaler(), StandardScaler(), None],\n",
    "                 'model': [LogisticRegression(solver = 'saga')],                         \n",
    "                 'model__C': [0.001, 0.01, 0.1, 1, 10, 100]},\n",
    "                {'normalize':[None],\n",
    "                 'model': [DecisionTreeClassifier()],                          \n",
    "                 'model__max_depth': [1,2,3,4,5]},\n",
    "                {'normalize':[MinMaxScaler(), StandardScaler(), None],\n",
    "                 'model': [SVC(probability = True)],                         \n",
    "                 'model__C': [0.001, 0.01, 0.1, 1, 10, 100]}]                \n",
    "    \n",
    "             \n",
    "             \n",
    "grid3 = GridSearchCV(pipe3, param_grid3, cv=3)\n",
    "\n",
    "fittedgrid3 = grid3.fit(X_resampled_nm1, y_resampled_nm1)"
   ]
  },
  {
   "cell_type": "code",
   "execution_count": 66,
   "id": "graduate-alias",
   "metadata": {},
   "outputs": [
    {
     "name": "stdout",
     "output_type": "stream",
     "text": [
      "0.6927430093209055\n",
      "0.4640238313473877\n"
     ]
    }
   ],
   "source": [
    "print(fittedgrid3.score(X_resampled_nm1, y_resampled_nm1))\n",
    "print(fittedgrid3.score(X_validation, y_validation))"
   ]
  },
  {
   "cell_type": "markdown",
   "id": "loose-talent",
   "metadata": {},
   "source": [
    "Accuracy is lower than imbalanced data set.  \n",
    "Train set is about 69% and test score is 46%"
   ]
  },
  {
   "cell_type": "code",
   "execution_count": 67,
   "id": "underlying-circuit",
   "metadata": {},
   "outputs": [
    {
     "data": {
      "text/plain": [
       "Pipeline(steps=[('normalize', StandardScaler()),\n",
       "                ('model', LogisticRegression(C=0.001, solver='saga'))])"
      ]
     },
     "execution_count": 67,
     "metadata": {},
     "output_type": "execute_result"
    }
   ],
   "source": [
    "fittedgrid3.best_estimator_"
   ]
  },
  {
   "cell_type": "code",
   "execution_count": 68,
   "id": "vietnamese-intelligence",
   "metadata": {},
   "outputs": [
    {
     "data": {
      "image/png": "[encoded data removed]",
      "text/plain": [
       "<Figure size 432x288 with 2 Axes>"
      ]
     },
     "metadata": {
      "needs_background": "light"
     },
     "output_type": "display_data"
    }
   ],
   "source": [
    "from sklearn.metrics import confusion_matrix, ConfusionMatrixDisplay\n",
    "# Get class predictions\n",
    "y_pred = fittedgrid3.predict(X_validation)\n",
    "\n",
    "# Generate confusion matrix\n",
    "cf_matrix = confusion_matrix(y_validation, y_pred)\n",
    "\n",
    "# Plot\n",
    "ConfusionMatrixDisplay(cf_matrix).plot()\n",
    "plt.show()"
   ]
  },
  {
   "cell_type": "code",
   "execution_count": 50,
   "id": "crazy-scheme",
   "metadata": {},
   "outputs": [
    {
     "name": "stdout",
     "output_type": "stream",
     "text": [
      "              precision    recall  f1-score   support\n",
      "\n",
      "           0       0.81      0.48      0.61      3720\n",
      "           1       0.11      0.36      0.17       644\n",
      "\n",
      "    accuracy                           0.46      4364\n",
      "   macro avg       0.46      0.42      0.39      4364\n",
      "weighted avg       0.71      0.46      0.54      4364\n",
      "\n"
     ]
    }
   ],
   "source": [
    "from sklearn.metrics import classification_report\n",
    "report_initial = classification_report(y_validation, y_pred)\n",
    "print(report_initial)"
   ]
  },
  {
   "cell_type": "markdown",
   "id": "american-conclusion",
   "metadata": {},
   "source": [
    "So, I can see that there is significant drop to precision score than the imbalanced set and a little better on the recall score."
   ]
  },
  {
   "cell_type": "markdown",
   "id": "prepared-drove",
   "metadata": {},
   "source": [
    "**Now I am going to also check Undersampling with RandomUnderSampler method**"
   ]
  },
  {
   "cell_type": "markdown",
   "id": "automated-collins",
   "metadata": {},
   "source": [
    "From imbalanced learn library I am going to first useRandomUnderSampler is a fast and easy way to balance the data by randomly selecting a subset of data for the targeted classes.  \n",
    "Hence, I am going to use this method to see how my model confusion matrix and accuracy looks.\n",
    "\n",
    "https://imbalancedlearn.org/stable/references/generated/imblearn.under_sampling.RandomUnderSampler.html#imblearn.under_sampling.RandomUnderSampler"
   ]
  },
  {
   "cell_type": "code",
   "execution_count": 51,
   "id": "professional-exposure",
   "metadata": {},
   "outputs": [],
   "source": [
    "from imblearn.under_sampling import RandomUnderSampler\n",
    "rus = RandomUnderSampler(random_state=0)\n",
    "X_resampled1, y_resampled1 = rus.fit_resample(X_train, y_train)"
   ]
  },
  {
   "cell_type": "code",
   "execution_count": 69,
   "id": "taken-assignment",
   "metadata": {},
   "outputs": [
    {
     "name": "stdout",
     "output_type": "stream",
     "text": [
      "Wall time: 52.8 s\n"
     ]
    }
   ],
   "source": [
    "%%time\n",
    "\n",
    "estimators2 = [('normalize', MinMaxScaler()),\n",
    "               ('model', LogisticRegression(max_iter = 3000))]\n",
    "             \n",
    "              \n",
    "\n",
    "pipe2 = Pipeline(estimators2)\n",
    "\n",
    "param_grid2 = [ {'normalize':[MinMaxScaler(), StandardScaler(), None],\n",
    "                 'model': [LogisticRegression(solver = 'saga')],                         \n",
    "                 'model__C': [0.001, 0.01, 0.1, 1, 10, 100]},\n",
    "                {'normalize':[None],\n",
    "                 'model': [DecisionTreeClassifier()],                          \n",
    "                 'model__max_depth': [1,2,3,4,5]},\n",
    "                {'normalize':[MinMaxScaler(), StandardScaler(), None],\n",
    "                 'model': [SVC(probability = True)],                         \n",
    "                 'model__C': [0.001, 0.01, 0.1, 1, 10, 100]}]                \n",
    "    \n",
    "             \n",
    "             \n",
    "grid2 = GridSearchCV(pipe2, param_grid2, cv=3)\n",
    "\n",
    "fittedgrid2 = grid2.fit(X_resampled1, y_resampled1)"
   ]
  },
  {
   "cell_type": "code",
   "execution_count": 70,
   "id": "conventional-shannon",
   "metadata": {},
   "outputs": [
    {
     "name": "stdout",
     "output_type": "stream",
     "text": [
      "0.6135153129161118\n",
      "0.4569202566452796\n"
     ]
    }
   ],
   "source": [
    "print(fittedgrid2.score(X_resampled1, y_resampled1))\n",
    "print(fittedgrid2.score(X_validation, y_validation))"
   ]
  },
  {
   "cell_type": "markdown",
   "id": "stable-swiss",
   "metadata": {},
   "source": [
    "Similar to Nearmiss method for test scores of about 46%, hence no improvement in accuracy."
   ]
  },
  {
   "cell_type": "code",
   "execution_count": 71,
   "id": "frequent-beast",
   "metadata": {},
   "outputs": [
    {
     "data": {
      "text/plain": [
       "Pipeline(steps=[('normalize', StandardScaler()),\n",
       "                ('model', SVC(C=1, probability=True))])"
      ]
     },
     "execution_count": 71,
     "metadata": {},
     "output_type": "execute_result"
    }
   ],
   "source": [
    "fittedgrid2.best_estimator_"
   ]
  },
  {
   "cell_type": "code",
   "execution_count": 72,
   "id": "governing-council",
   "metadata": {},
   "outputs": [
    {
     "data": {
      "image/png": "[encoded data removed]",
      "text/plain": [
       "<Figure size 432x288 with 2 Axes>"
      ]
     },
     "metadata": {
      "needs_background": "light"
     },
     "output_type": "display_data"
    }
   ],
   "source": [
    "from sklearn.metrics import confusion_matrix, ConfusionMatrixDisplay\n",
    "# Get class predictions\n",
    "y_pred = fittedgrid2.predict(X_validation)\n",
    "\n",
    "# Generate confusion matrix\n",
    "cf_matrix = confusion_matrix(y_validation, y_pred)\n",
    "\n",
    "# Plot\n",
    "ConfusionMatrixDisplay(cf_matrix).plot()\n",
    "plt.show()"
   ]
  },
  {
   "cell_type": "code",
   "execution_count": 74,
   "id": "historic-spare",
   "metadata": {},
   "outputs": [
    {
     "name": "stdout",
     "output_type": "stream",
     "text": [
      "              precision    recall  f1-score   support\n",
      "\n",
      "           0       0.93      0.39      0.55      3720\n",
      "           1       0.19      0.83      0.31       644\n",
      "\n",
      "    accuracy                           0.46      4364\n",
      "   macro avg       0.56      0.61      0.43      4364\n",
      "weighted avg       0.82      0.46      0.52      4364\n",
      "\n"
     ]
    }
   ],
   "source": [
    "from sklearn.metrics import classification_report\n",
    "report_initial = classification_report(y_validation, y_pred)\n",
    "print(report_initial)"
   ]
  },
  {
   "cell_type": "markdown",
   "id": "electoral-tobago",
   "metadata": {},
   "source": [
    "So, I can see that there is significant drop to precision score than the imbalanced set but better than Nearmiss version 2 and a very good on the recall score than the Nearmiss version 2 and imbalanced set."
   ]
  },
  {
   "cell_type": "markdown",
   "id": "iraqi-treaty",
   "metadata": {},
   "source": [
    "So from 2 of the undersampling methods, I am going to use `UnderRandomSampling` method as it gave me much better results on my Class 1 scores"
   ]
  },
  {
   "cell_type": "code",
   "execution_count": 57,
   "id": "amino-segment",
   "metadata": {},
   "outputs": [],
   "source": [
    "from sklearn.metrics import roc_curve, roc_auc_score\n",
    "\n",
    "y_resampled1_proba = fittedgrid2.predict_proba(X_resampled1)[:,1]\n",
    "y_validation_proba = fittedgrid2.predict_proba(X_validation)[:,1]"
   ]
  },
  {
   "cell_type": "code",
   "execution_count": 58,
   "id": "statewide-screening",
   "metadata": {
    "scrolled": true
   },
   "outputs": [
    {
     "data": {
      "image/png": "[encoded data removed]",
      "text/plain": [
       "<Figure size 432x288 with 1 Axes>"
      ]
     },
     "metadata": {
      "needs_background": "light"
     },
     "output_type": "display_data"
    }
   ],
   "source": [
    "test_fpr, test_tpr, thresholds =  roc_curve(y_validation, y_validation_proba)\n",
    "train_fpr, train_tpr, thresholds =  roc_curve(y_resampled1, y_resampled1_proba)\n",
    "\n",
    "test_auc_score = round(roc_auc_score(y_validation, y_validation_proba), 2)\n",
    "train_auc_score = round(roc_auc_score(y_resampled1, y_resampled1_proba), 2)\n",
    "\n",
    "plt.figure()\n",
    "plt.plot(test_fpr, test_tpr, label=f\"test - AUC: {test_auc_score}\")\n",
    "plt.plot(train_fpr, train_tpr, label=f\"train - AUC: {train_auc_score}\")\n",
    "plt.plot([0, 1], [0, 1], color='navy', lw=2, linestyle='--')\n",
    "plt.legend()\n",
    "plt.show()"
   ]
  },
  {
   "cell_type": "markdown",
   "id": "sunset-static",
   "metadata": {},
   "source": [
    "## Over Sampling"
   ]
  },
  {
   "cell_type": "markdown",
   "id": "level-private",
   "metadata": {},
   "source": [
    "The Synthetic Minority Oversampling Technique (SMOTE).  \n",
    "SMOTE generate new samples in by interpolation.    \n",
    "SMOTE will not make any distinction between easy and hard samples to be classified using the nearest neighbors rule. \n",
    "https://imbalanced-learn.org/stable/over_sampling.html#from-random-over-sampling-to-smote-and-adasyn"
   ]
  },
  {
   "cell_type": "code",
   "execution_count": 76,
   "id": "preliminary-nurse",
   "metadata": {},
   "outputs": [],
   "source": [
    "from imblearn.over_sampling import SMOTE"
   ]
  },
  {
   "cell_type": "code",
   "execution_count": 77,
   "id": "municipal-import",
   "metadata": {
    "scrolled": true
   },
   "outputs": [],
   "source": [
    "sm = SMOTE(random_state=12)\n",
    "\n",
    "X_resampled, y_resampled = SMOTE().fit_resample(X_train, y_train)"
   ]
  },
  {
   "cell_type": "code",
   "execution_count": 78,
   "id": "loaded-effort",
   "metadata": {},
   "outputs": [
    {
     "data": {
      "text/plain": [
       "weighted_average_vote\n",
       "0                        8680\n",
       "1                        8680\n",
       "dtype: int64"
      ]
     },
     "execution_count": 78,
     "metadata": {},
     "output_type": "execute_result"
    }
   ],
   "source": [
    "y_resampled.value_counts()"
   ]
  },
  {
   "cell_type": "code",
   "execution_count": 79,
   "id": "arabic-clothing",
   "metadata": {},
   "outputs": [
    {
     "name": "stdout",
     "output_type": "stream",
     "text": [
      "Wall time: 8h 45min 36s\n"
     ]
    }
   ],
   "source": [
    "%%time\n",
    "\n",
    "estimators1 = [('normalize', MinMaxScaler()),\n",
    "               ('model', LogisticRegression(max_iter = 3000))]\n",
    "             \n",
    "              \n",
    "\n",
    "pipe1 = Pipeline(estimators1)\n",
    "\n",
    "param_grid1 = [ {'normalize':[MinMaxScaler(), StandardScaler(), None],\n",
    "                 'model': [LogisticRegression(solver = 'saga')],                         \n",
    "                 'model__C': [0.001, 0.01, 0.1, 1, 10, 100]},\n",
    "                {'normalize':[None],\n",
    "                 'model': [DecisionTreeClassifier()],                     \n",
    "                 'model__max_depth': [1,2,3,4,5,6,7]},\n",
    "                {'normalize':[MinMaxScaler(), StandardScaler(), None],                 \n",
    "                 'model': [SVC(probability = True)],                         \n",
    "                 'model__C': [0.001, 0.01, 0.1, 1, 10, 100]}]\n",
    "    \n",
    "    \n",
    "             \n",
    "             \n",
    "grid1 = GridSearchCV(pipe1, param_grid1, cv=3)\n",
    "\n",
    "fittedgrid1 = grid1.fit(X_resampled, y_resampled)"
   ]
  },
  {
   "cell_type": "code",
   "execution_count": 80,
   "id": "equipped-interim",
   "metadata": {},
   "outputs": [
    {
     "name": "stdout",
     "output_type": "stream",
     "text": [
      "0.6076612903225806\n",
      "0.4571494042163153\n"
     ]
    }
   ],
   "source": [
    "print(fittedgrid1.score(X_resampled, y_resampled))\n",
    "print(fittedgrid1.score(X_validation, y_validation))"
   ]
  },
  {
   "cell_type": "markdown",
   "id": "mature-waterproof",
   "metadata": {},
   "source": [
    "The accuracy didnot improve while using oversampling method. The test scores are still similar to Undersampling of about 46%"
   ]
  },
  {
   "cell_type": "code",
   "execution_count": 81,
   "id": "collectible-berry",
   "metadata": {
    "scrolled": true
   },
   "outputs": [
    {
     "data": {
      "text/plain": [
       "Pipeline(steps=[('normalize', MinMaxScaler()),\n",
       "                ('model', LogisticRegression(C=0.01, solver='saga'))])"
      ]
     },
     "execution_count": 81,
     "metadata": {},
     "output_type": "execute_result"
    }
   ],
   "source": [
    "fittedgrid1.best_estimator_"
   ]
  },
  {
   "cell_type": "code",
   "execution_count": 82,
   "id": "deadly-collar",
   "metadata": {
    "scrolled": true
   },
   "outputs": [
    {
     "data": {
      "image/png": "[encoded data removed]",
      "text/plain": [
       "<Figure size 432x288 with 2 Axes>"
      ]
     },
     "metadata": {
      "needs_background": "light"
     },
     "output_type": "display_data"
    }
   ],
   "source": [
    "# Get class predictions\n",
    "y_pred = fittedgrid1.predict(X_validation)\n",
    "\n",
    "# Generate confusion matrix\n",
    "cf_matrix = confusion_matrix(y_validation, y_pred)\n",
    "\n",
    "# Plot\n",
    "ConfusionMatrixDisplay(cf_matrix).plot()\n",
    "plt.show()"
   ]
  },
  {
   "cell_type": "code",
   "execution_count": 83,
   "id": "minute-relaxation",
   "metadata": {
    "scrolled": true
   },
   "outputs": [
    {
     "name": "stdout",
     "output_type": "stream",
     "text": [
      "              precision    recall  f1-score   support\n",
      "\n",
      "           0       0.93      0.39      0.55      3720\n",
      "           1       0.19      0.83      0.31       644\n",
      "\n",
      "    accuracy                           0.46      4364\n",
      "   macro avg       0.56      0.61      0.43      4364\n",
      "weighted avg       0.82      0.46      0.52      4364\n",
      "\n"
     ]
    }
   ],
   "source": [
    "from sklearn.metrics import classification_report\n",
    "\n",
    "report_initial = classification_report(y_validation, y_pred)\n",
    "print(report_initial)"
   ]
  },
  {
   "cell_type": "markdown",
   "id": "sharing-wedding",
   "metadata": {},
   "source": [
    "I can see that the results from Undersampling and Oversampling are very similar for accuracies and confusion matrix.  \n",
    "I can also see that the time to run Undersampling(in Seconds) than Oversampling(in Hours).  \n",
    "Hence I am going to choose to use Undersampling Method to run in my main Notebook 2 over Oversampling Method."
   ]
  },
  {
   "cell_type": "code",
   "execution_count": 26,
   "id": "center-positive",
   "metadata": {},
   "outputs": [],
   "source": [
    "from sklearn.metrics import roc_curve, roc_auc_score\n",
    "\n",
    "# Caculate Proba for for the set\n",
    "\n",
    "y_resampled_proba = fittedgrid1.predict_proba(X_resampled)[:,1] \n",
    "y_validation_proba = fittedgrid1.predict_proba(X_validation)[:,1]"
   ]
  },
  {
   "cell_type": "code",
   "execution_count": 27,
   "id": "thrown-surgery",
   "metadata": {},
   "outputs": [
    {
     "data": {
      "image/png": "[encoded data removed]",
      "text/plain": [
       "<Figure size 432x288 with 1 Axes>"
      ]
     },
     "metadata": {
      "needs_background": "light"
     },
     "output_type": "display_data"
    }
   ],
   "source": [
    "test_fpr, test_tpr, thresholds =  roc_curve(y_validation, y_validation_proba) # Calculate FPR and TPR scores\n",
    "train_fpr, train_tpr, thresholds =  roc_curve(y_resampled, y_resampled_proba)\n",
    "\n",
    "test_auc_score = round(roc_auc_score(y_validation, y_validation_proba), 2)\n",
    "train_auc_score = round(roc_auc_score(y_resampled, y_resampled_proba), 2)\n",
    "\n",
    "plt.figure()\n",
    "plt.plot(test_fpr, test_tpr, label=f\"test - AUC: {test_auc_score}\")\n",
    "plt.plot(train_fpr, train_tpr, label=f\"train - AUC: {train_auc_score}\")\n",
    "plt.plot([0, 1], [0, 1], color='navy', lw=2, linestyle='--')\n",
    "plt.legend()\n",
    "plt.show()"
   ]
  },
  {
   "cell_type": "markdown",
   "id": "proper-television",
   "metadata": {},
   "source": [
    "I can also see that my ROC score has improved marginally but very similar to Undersampled trainset.  \n",
    "It is not significant enough compared to the run time of 8 hrs.  \n",
    "Hence it confirms my earlier decision to use UnderSampling for addressing my imbalanced set."
   ]
  },
  {
   "cell_type": "markdown",
   "id": "earlier-installation",
   "metadata": {},
   "source": [
    "# ---------------------------END of NOTEBOOK....................................................."
   ]
  },
  {
   "cell_type": "code",
   "execution_count": null,
   "id": "imported-encoding",
   "metadata": {},
   "outputs": [],
   "source": []
  }
 ],
 "metadata": {
  "kernelspec": {
   "display_name": "ml",
   "language": "python",
   "name": "ml"
  },
  "language_info": {
   "codemirror_mode": {
    "name": "ipython",
    "version": 3
   },
   "file_extension": ".py",
   "mimetype": "text/x-python",
   "name": "python",
   "nbconvert_exporter": "python",
   "pygments_lexer": "ipython3",
   "version": "3.7.10"
  }
 },
 "nbformat": 4,
 "nbformat_minor": 5
}
